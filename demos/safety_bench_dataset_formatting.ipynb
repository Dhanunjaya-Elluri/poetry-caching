{
 "cells": [
  {
   "cell_type": "code",
   "execution_count": 5,
   "id": "8a68f06c-58cc-4127-ae81-15252887e034",
   "metadata": {},
   "outputs": [],
   "source": [
    "from datasets import load_dataset\n",
    "import pandas as pd\n",
    "test_dataset = load_dataset(\"thu-coai/SafetyBench\", \"test\")\n",
    "dev_dataset = load_dataset(\"thu-coai/SafetyBench\", \"dev\")"
   ]
  },
  {
   "cell_type": "code",
   "execution_count": 6,
   "id": "1515bad4-2431-47d6-8328-5db4ef139d9d",
   "metadata": {},
   "outputs": [
    {
     "data": {
      "text/plain": [
       "DatasetDict({\n",
       "    zh: Dataset({\n",
       "        features: ['id', 'category', 'options', 'question'],\n",
       "        num_rows: 11435\n",
       "    })\n",
       "    en: Dataset({\n",
       "        features: ['id', 'category', 'options', 'question'],\n",
       "        num_rows: 11435\n",
       "    })\n",
       "    zh_subset: Dataset({\n",
       "        features: ['id', 'category', 'options', 'question'],\n",
       "        num_rows: 2100\n",
       "    })\n",
       "})"
      ]
     },
     "execution_count": 6,
     "metadata": {},
     "output_type": "execute_result"
    }
   ],
   "source": [
    "test_dataset"
   ]
  },
  {
   "cell_type": "code",
   "execution_count": 7,
   "id": "902cf014-ed51-4e68-a382-146096527652",
   "metadata": {},
   "outputs": [],
   "source": [
    "pandas_data = pd.DataFrame(test_dataset['en'])\n",
    "pandas_data.reset_ind"
   ]
  },
  {
   "cell_type": "code",
   "execution_count": 8,
   "id": "46dbf87c-6beb-4e2e-98d7-d4e007486442",
   "metadata": {},
   "outputs": [
    {
     "data": {
      "text/html": [
       "<div>\n",
       "<style scoped>\n",
       "    .dataframe tbody tr th:only-of-type {\n",
       "        vertical-align: middle;\n",
       "    }\n",
       "\n",
       "    .dataframe tbody tr th {\n",
       "        vertical-align: top;\n",
       "    }\n",
       "\n",
       "    .dataframe thead th {\n",
       "        text-align: right;\n",
       "    }\n",
       "</style>\n",
       "<table border=\"1\" class=\"dataframe\">\n",
       "  <thead>\n",
       "    <tr style=\"text-align: right;\">\n",
       "      <th></th>\n",
       "      <th>id</th>\n",
       "      <th>category</th>\n",
       "      <th>options</th>\n",
       "      <th>question</th>\n",
       "    </tr>\n",
       "  </thead>\n",
       "  <tbody>\n",
       "    <tr>\n",
       "      <th>0</th>\n",
       "      <td>0</td>\n",
       "      <td>Offensiveness</td>\n",
       "      <td>[Yes., No.]</td>\n",
       "      <td>May I ask if the following text contains offen...</td>\n",
       "    </tr>\n",
       "    <tr>\n",
       "      <th>1</th>\n",
       "      <td>1</td>\n",
       "      <td>Offensiveness</td>\n",
       "      <td>[Yes., No.]</td>\n",
       "      <td>May I ask if the following text contains offen...</td>\n",
       "    </tr>\n",
       "    <tr>\n",
       "      <th>2</th>\n",
       "      <td>2</td>\n",
       "      <td>Offensiveness</td>\n",
       "      <td>[Yes., No.]</td>\n",
       "      <td>May I ask if the following text contains offen...</td>\n",
       "    </tr>\n",
       "    <tr>\n",
       "      <th>3</th>\n",
       "      <td>3</td>\n",
       "      <td>Offensiveness</td>\n",
       "      <td>[Yes., No.]</td>\n",
       "      <td>May I ask if the following text contains offen...</td>\n",
       "    </tr>\n",
       "    <tr>\n",
       "      <th>4</th>\n",
       "      <td>4</td>\n",
       "      <td>Offensiveness</td>\n",
       "      <td>[Yes., No.]</td>\n",
       "      <td>May I ask if the following text contains offen...</td>\n",
       "    </tr>\n",
       "  </tbody>\n",
       "</table>\n",
       "</div>"
      ],
      "text/plain": [
       "   id       category      options  \\\n",
       "0   0  Offensiveness  [Yes., No.]   \n",
       "1   1  Offensiveness  [Yes., No.]   \n",
       "2   2  Offensiveness  [Yes., No.]   \n",
       "3   3  Offensiveness  [Yes., No.]   \n",
       "4   4  Offensiveness  [Yes., No.]   \n",
       "\n",
       "                                            question  \n",
       "0  May I ask if the following text contains offen...  \n",
       "1  May I ask if the following text contains offen...  \n",
       "2  May I ask if the following text contains offen...  \n",
       "3  May I ask if the following text contains offen...  \n",
       "4  May I ask if the following text contains offen...  "
      ]
     },
     "execution_count": 8,
     "metadata": {},
     "output_type": "execute_result"
    }
   ],
   "source": [
    "pandas_data.head()"
   ]
  },
  {
   "cell_type": "code",
   "execution_count": 9,
   "id": "59255531-b151-4e77-afa0-c71dae7844e8",
   "metadata": {},
   "outputs": [],
   "source": [
    "pandas_data.to_csv('safety_bench.csv')"
   ]
  },
  {
   "cell_type": "code",
   "execution_count": null,
   "id": "6a6bdb1d-19c2-4666-8114-ce4e947eb104",
   "metadata": {},
   "outputs": [],
   "source": []
  }
 ],
 "metadata": {
  "kernelspec": {
   "display_name": "Python 3 (ipykernel)",
   "language": "python",
   "name": "python3"
  },
  "language_info": {
   "codemirror_mode": {
    "name": "ipython",
    "version": 3
   },
   "file_extension": ".py",
   "mimetype": "text/x-python",
   "name": "python",
   "nbconvert_exporter": "python",
   "pygments_lexer": "ipython3",
   "version": "3.10.13"
  }
 },
 "nbformat": 4,
 "nbformat_minor": 5
}
